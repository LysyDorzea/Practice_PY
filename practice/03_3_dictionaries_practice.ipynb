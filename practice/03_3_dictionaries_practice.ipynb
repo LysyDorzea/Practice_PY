{
  "cells": [
    {
      "cell_type": "markdown",
      "metadata": {
        "id": "OSlmYV1rXDEI"
      },
      "source": [
        "# 1. Заполнение словаря\n",
        "Создайте словарь, используя все данные переменные ниже и заполнив пропуски `____`\n",
        "\n",
        "Помните, что словари можно создавать несколькими способами. Прочтите лонгрид и/или погуглите их"
      ]
    },
    {
      "cell_type": "code",
      "execution_count": 12,
      "metadata": {
        "editable": false,
        "id": "05fe7AtiXDEJ"
      },
      "outputs": [],
      "source": [
        "first_name = 'John'\n",
        "last_name = 'Doe'\n",
        "favorite_hobby = 'Python'\n",
        "sports_hobby = 'gym'\n",
        "age = 82\n"
      ]
    },
    {
      "cell_type": "code",
      "execution_count": 13,
      "metadata": {
        "id": "qas0XNZhXDEK"
      },
      "outputs": [],
      "source": [
        "# Ваше решение\n",
        "my_dict = {\n",
        "    'name': f'{first_name} {last_name}',\n",
        "    'age': age,\n",
        "    'hobbies': [favorite_hobby, sports_hobby]\n",
        "           }"
      ]
    },
    {
      "cell_type": "code",
      "execution_count": 14,
      "metadata": {
        "id": "qsLe4MXQXDEK"
      },
      "outputs": [],
      "source": [
        "assert my_dict == {\n",
        "        'name': 'John Doe',\n",
        "        'age': 82,\n",
        "        'hobbies': ['Python', 'gym']\n",
        "    }"
      ]
    },
    {
      "cell_type": "markdown",
      "metadata": {
        "id": "79zcI8aRXDEK"
      },
      "source": [
        "# 2. Доступ к элементам словаря и слияние\n",
        "Соедините `dict1`, `dict2` и `dict3` в `my_dict`. Присвойте значение  `special_key` из `my_dict` переменной `special_value`. Не модифицируйте исходные словари, удалите `special_key` из словаря `my_dict`."
      ]
    },
    {
      "cell_type": "code",
      "execution_count": null,
      "metadata": {
        "id": "jVNZo6I5XDEK"
      },
      "outputs": [],
      "source": [
        "dict1 = dict(key1='This is not that hard', key2='Python is still cool')\n",
        "dict2 = {'key1': 123, 'special_key': 'secret'}\n",
        "# This is also a away to initialize a dict (list of tuples)\n",
        "dict3 = dict([('key2', 456), ('keyX', 'X')])"
      ]
    },
    {
      "cell_type": "code",
      "execution_count": 26,
      "metadata": {
        "id": "rkkSjjOcXDEL",
        "outputId": "f6f73a88-de1c-4957-a989-5e61006c0188",
        "colab": {
          "base_uri": "https://localhost:8080/",
          "height": 190
        }
      },
      "outputs": [
        {
          "output_type": "error",
          "ename": "NameError",
          "evalue": "name 'dict2' is not defined",
          "traceback": [
            "\u001b[0;31m---------------------------------------------------------------------------\u001b[0m",
            "\u001b[0;31mNameError\u001b[0m                                 Traceback (most recent call last)",
            "\u001b[0;32m<ipython-input-26-9d87aa03544a>\u001b[0m in \u001b[0;36m<cell line: 2>\u001b[0;34m()\u001b[0m\n\u001b[1;32m      1\u001b[0m \u001b[0;31m# Ваше решение\u001b[0m\u001b[0;34m\u001b[0m\u001b[0;34m\u001b[0m\u001b[0m\n\u001b[0;32m----> 2\u001b[0;31m \u001b[0mmy_dict\u001b[0m \u001b[0;34m=\u001b[0m \u001b[0;34m{\u001b[0m \u001b[0;34m**\u001b[0m\u001b[0mdict1\u001b[0m\u001b[0;34m,\u001b[0m \u001b[0;34m**\u001b[0m\u001b[0mdict2\u001b[0m\u001b[0;34m,\u001b[0m \u001b[0;34m**\u001b[0m\u001b[0mdict3\u001b[0m \u001b[0;34m}\u001b[0m\u001b[0;34m\u001b[0m\u001b[0;34m\u001b[0m\u001b[0m\n\u001b[0m\u001b[1;32m      3\u001b[0m \u001b[0;34m\u001b[0m\u001b[0m\n\u001b[1;32m      4\u001b[0m \u001b[0mspecial_value\u001b[0m \u001b[0;34m=\u001b[0m \u001b[0mmy_dict\u001b[0m\u001b[0;34m.\u001b[0m\u001b[0mpop\u001b[0m\u001b[0;34m(\u001b[0m\u001b[0;34m'special_key'\u001b[0m\u001b[0;34m)\u001b[0m\u001b[0;34m\u001b[0m\u001b[0;34m\u001b[0m\u001b[0m\n",
            "\u001b[0;31mNameError\u001b[0m: name 'dict2' is not defined"
          ]
        }
      ],
      "source": [
        "# Ваше решение\n",
        "my_dict = { **dict1, **dict2, **dict3 }\n",
        "\n",
        "special_value = my_dict.pop('special_key')\n"
      ]
    },
    {
      "cell_type": "code",
      "execution_count": 27,
      "metadata": {
        "id": "55XqOouGXDEL",
        "outputId": "086c1f74-6ecd-4f37-f8f5-6adaa8483449",
        "colab": {
          "base_uri": "https://localhost:8080/",
          "height": 207
        }
      },
      "outputs": [
        {
          "output_type": "error",
          "ename": "AssertionError",
          "evalue": "",
          "traceback": [
            "\u001b[0;31m---------------------------------------------------------------------------\u001b[0m",
            "\u001b[0;31mAssertionError\u001b[0m                            Traceback (most recent call last)",
            "\u001b[0;32m<ipython-input-27-52aca3b78578>\u001b[0m in \u001b[0;36m<cell line: 2>\u001b[0;34m()\u001b[0m\n\u001b[1;32m      1\u001b[0m \u001b[0;32massert\u001b[0m \u001b[0mmy_dict\u001b[0m \u001b[0;34m==\u001b[0m \u001b[0;34m{\u001b[0m\u001b[0;34m'key1'\u001b[0m\u001b[0;34m:\u001b[0m \u001b[0;36m123\u001b[0m\u001b[0;34m,\u001b[0m \u001b[0;34m'key2'\u001b[0m\u001b[0;34m:\u001b[0m \u001b[0;36m456\u001b[0m\u001b[0;34m,\u001b[0m \u001b[0;34m'keyX'\u001b[0m\u001b[0;34m:\u001b[0m \u001b[0;34m'X'\u001b[0m\u001b[0;34m}\u001b[0m\u001b[0;34m\u001b[0m\u001b[0;34m\u001b[0m\u001b[0m\n\u001b[0;32m----> 2\u001b[0;31m \u001b[0;32massert\u001b[0m \u001b[0mspecial_value\u001b[0m \u001b[0;34m==\u001b[0m \u001b[0;34m'secret'\u001b[0m\u001b[0;34m\u001b[0m\u001b[0;34m\u001b[0m\u001b[0m\n\u001b[0m\u001b[1;32m      3\u001b[0m \u001b[0;34m\u001b[0m\u001b[0m\n\u001b[1;32m      4\u001b[0m \u001b[0;31m# проверим, что Вы не изменили исходные словари\u001b[0m\u001b[0;34m\u001b[0m\u001b[0;34m\u001b[0m\u001b[0m\n\u001b[1;32m      5\u001b[0m assert dict1 == {\n",
            "\u001b[0;31mAssertionError\u001b[0m: "
          ]
        }
      ],
      "source": [
        "assert my_dict == {'key1': 123, 'key2': 456, 'keyX': 'X'}\n",
        "assert special_value == 'secret'\n",
        "\n",
        "# проверим, что Вы не изменили исходные словари\n",
        "assert dict1 == {\n",
        "        'key1': 'This is not that hard',\n",
        "        'key2': 'Python is still cool'\n",
        "    }\n",
        "assert dict2 == {'key1': 123, 'special_key': 'secret'}\n",
        "assert dict3 == {'key2': 456, 'keyX': 'X'}"
      ]
    }
  ],
  "metadata": {
    "celltoolbar": "Edit Metadata",
    "kernelspec": {
      "display_name": "Python 3 (ipykernel)",
      "language": "python",
      "name": "python3"
    },
    "language_info": {
      "codemirror_mode": {
        "name": "ipython",
        "version": 3
      },
      "file_extension": ".py",
      "mimetype": "text/x-python",
      "name": "python",
      "nbconvert_exporter": "python",
      "pygments_lexer": "ipython3",
      "version": "3.10.2"
    },
    "colab": {
      "provenance": []
    }
  },
  "nbformat": 4,
  "nbformat_minor": 0
}