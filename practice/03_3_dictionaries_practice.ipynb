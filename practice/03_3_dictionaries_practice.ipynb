{
  "cells": [
    {
      "cell_type": "markdown",
      "metadata": {
        "id": "view-in-github",
        "colab_type": "text"
      },
      "source": [
        "<a href=\"https://colab.research.google.com/github/LysyDorzea/Practice_PY/blob/main/practice/03_3_dictionaries_practice.ipynb\" target=\"_parent\"><img src=\"https://colab.research.google.com/assets/colab-badge.svg\" alt=\"Open In Colab\"/></a>"
      ]
    },
    {
      "cell_type": "markdown",
      "metadata": {
        "id": "T_mNjuYBfmOn"
      },
      "source": [
        "# 1. Заполнение словаря\n",
        "Создайте словарь, используя все данные переменные ниже и заполнив пропуски `____`\n",
        "\n",
        "Помните, что словари можно создавать несколькими способами. Прочтите лонгрид и/или погуглите их"
      ]
    },
    {
      "cell_type": "code",
      "execution_count": 50,
      "metadata": {
        "editable": false,
        "id": "lKorHMmgfmOp"
      },
      "outputs": [],
      "source": [
        "first_name = 'John'\n",
        "last_name = 'Doe'\n",
        "favorite_hobby = 'Python'\n",
        "sports_hobby = 'gym'\n",
        "age = 82"
      ]
    },
    {
      "cell_type": "code",
      "execution_count": 51,
      "metadata": {
        "id": "HPK_QQ9YfmOq"
      },
      "outputs": [],
      "source": [
        "# Ваше решение\n",
        "my_dict = {\n",
        "    'name': f'{first_name} {last_name}',\n",
        "    'age': age,\n",
        "    'hobbies': [favorite_hobby, sports_hobby]\n",
        "    }\n"
      ]
    },
    {
      "cell_type": "code",
      "execution_count": 52,
      "metadata": {
        "id": "seicKmTxfmOr",
        "outputId": "129aae1c-fc98-4a0d-a46b-16e4bebf985b",
        "colab": {
          "base_uri": "https://localhost:8080/"
        }
      },
      "outputs": [
        {
          "output_type": "stream",
          "name": "stdout",
          "text": [
            "Successful!\n"
          ]
        }
      ],
      "source": [
        "assert my_dict == {\n",
        "        'name': 'John Doe',\n",
        "        'age': 82,\n",
        "        'hobbies': ['Python', 'gym']\n",
        "    }\n",
        "\n",
        "print(\"Successful!\")"
      ]
    },
    {
      "cell_type": "markdown",
      "metadata": {
        "id": "4trz0T5-fmOr"
      },
      "source": [
        "# 2. Доступ к элементам словаря и слияние\n",
        "Соедините `dict1`, `dict2` и `dict3` в `my_dict`. Присвойте значение  `special_key` из `my_dict` переменной `special_value`. Не модифицируйте исходные словари, удалите `special_key` из словаря `my_dict`."
      ]
    },
    {
      "cell_type": "code",
      "execution_count": 44,
      "metadata": {
        "id": "zkteprccfmOr"
      },
      "outputs": [],
      "source": [
        "dict1 = dict(key1='This is not that hard', key2='Python is still cool')\n",
        "dict2 = {'key1': 123, 'special_key': 'secret'}\n",
        "# This is also a away to initialize a dict (list of tuples)\n",
        "dict3 = dict([('key2', 456), ('keyX', 'X')])"
      ]
    },
    {
      "cell_type": "code",
      "execution_count": 45,
      "metadata": {
        "id": "pzoDS5l6fmOr"
      },
      "outputs": [],
      "source": [
        "# Ваше решение\n",
        "my_dict = {**dict1, **dict2, **dict3}\n",
        "special_value = my_dict.pop('special_key')"
      ]
    },
    {
      "cell_type": "code",
      "execution_count": 47,
      "metadata": {
        "id": "jOV74tS_fmOr",
        "outputId": "74b735c5-70cd-421c-9910-22803266500c",
        "colab": {
          "base_uri": "https://localhost:8080/"
        }
      },
      "outputs": [
        {
          "output_type": "stream",
          "name": "stdout",
          "text": [
            "Successful!\n"
          ]
        }
      ],
      "source": [
        "assert my_dict == {'key1': 123, 'key2': 456, 'keyX': 'X'}\n",
        "assert special_value == 'secret'\n",
        "\n",
        "# проверим, что Вы не изменили исходные словари\n",
        "assert dict1 == {\n",
        "        'key1': 'This is not that hard',\n",
        "        'key2': 'Python is still cool'\n",
        "    }\n",
        "assert dict2 == {'key1': 123, 'special_key': 'secret'}\n",
        "assert dict3 == {'key2': 456, 'keyX': 'X'}\n",
        "\n",
        "print(\"Successful!\")"
      ]
    },
    {
      "cell_type": "markdown",
      "source": [],
      "metadata": {
        "id": "3aZbHiEZgtYJ"
      }
    }
  ],
  "metadata": {
    "celltoolbar": "Edit Metadata",
    "kernelspec": {
      "display_name": "Python 3 (ipykernel)",
      "language": "python",
      "name": "python3"
    },
    "language_info": {
      "codemirror_mode": {
        "name": "ipython",
        "version": 3
      },
      "file_extension": ".py",
      "mimetype": "text/x-python",
      "name": "python",
      "nbconvert_exporter": "python",
      "pygments_lexer": "ipython3",
      "version": "3.10.2"
    },
    "colab": {
      "provenance": [],
      "include_colab_link": true
    }
  },
  "nbformat": 4,
  "nbformat_minor": 0
}