{
  "cells": [
    {
      "cell_type": "markdown",
      "metadata": {
        "id": "view-in-github",
        "colab_type": "text"
      },
      "source": [
        "<a href=\"https://colab.research.google.com/github/LysyDorzea/Practice_PY/blob/main/practice/03_1_numbers_practice.ipynb\" target=\"_parent\"><img src=\"https://colab.research.google.com/assets/colab-badge.svg\" alt=\"Open In Colab\"/></a>"
      ]
    },
    {
      "cell_type": "markdown",
      "metadata": {
        "id": "dD0S-4FrEFFw"
      },
      "source": [
        "# 1. Создание формул\n",
        "Напишите следующие математические формулы c с помощью Python\n",
        "\n",
        "\\begin{align}\n",
        " result = 6a^3 - \\frac{8b^2 }{4c} + 11\n",
        "\\end{align}\n",
        "\n",
        "Заполните `____`, в блоках ниже, написав эту формулу и подставив в неё значения переменных `a`, `b` и `c`.\n",
        "\n",
        "Функция `assert` проверит правильность решения в этом и всех последующих заданиях.\n",
        "\n",
        "Если ответ верный, ничего не произойдёт. Если неверный - Вы увидите `AssertionError`"
      ]
    },
    {
      "cell_type": "code",
      "execution_count": 7,
      "metadata": {
        "editable": false,
        "colab": {
          "base_uri": "https://localhost:8080/"
        },
        "id": "G4x1bgdvEFFx",
        "outputId": "de40c5ee-7e51-4a38-9d81-86eaab13e780"
      },
      "outputs": [
        {
          "output_type": "stream",
          "name": "stdout",
          "text": [
            "The result of the formula is: 50.0 \n"
          ]
        }
      ],
      "source": [
        "a = 2\n",
        "b = 3\n",
        "c = 2\n",
        "\n",
        "#Calculate the result\n",
        "result = 6*a**3-((8*b**2)/(4*c))+11\n",
        "\n",
        "assert result == 6*(2**3) - ((8*(3**2))/(4*2))+11, f\"Expected {6*(2**3) - ((8*(3**2))/(4*2))+11}, got {result }\"\n",
        "\n",
        "print(f\"The result of the formula is: {result} \")\n",
        "\n"
      ]
    },
    {
      "cell_type": "markdown",
      "metadata": {
        "id": "2A4_kEuPEFFy"
      },
      "source": [
        "Чтобы выполнить блок кода, нажмите на него левой кнопкой мыши, а затем - на кнопку с треугольником \"Run\" или \"Выполнить\" слева от блока (если Вы используете Google Colab) или наверху (если Вы используете Jupyter Notebook).\n",
        "\n",
        "Вместо кнопки \"Run\" можно использовать комбинацию `Ctrl+Enter` (Windows, Linux) или `Cmd+Enter` (MacOS), когда Ваш курсор находится в блоке с кодом"
      ]
    },
    {
      "cell_type": "markdown",
      "metadata": {
        "id": "vExA6H-AEFFy"
      },
      "source": [
        "Интерактивный интерпретатор \"запоминает\" действия в прошлых блоках кода так, будто вы по очереди выполняли их в командной строке.\n",
        "\n",
        "Если Вы лишний раз раз запустили одни и те же блоки кода и что-то сбили, нажмите на кнопку \"Restart the kernel\", чтобы очистить память интерпретатора, и выполните все блоки кода заново"
      ]
    },
    {
      "cell_type": "code",
      "execution_count": 6,
      "metadata": {
        "id": "h0DmdvBiEFFy"
      },
      "outputs": [],
      "source": [
        "#\n",
        "# не забудьте, что возведение в степень в Python - это не ^, а **\n",
        "\n",
        "# символом \"решётка\" в коде выделяются комментарии для других программистов и для себя\n",
        "# интерпретатор их пропускает\n",
        "\n",
        "result =  6*a**3-((8*b**2)/(4*c))+11"
      ]
    },
    {
      "cell_type": "code",
      "execution_count": 5,
      "metadata": {
        "id": "lZhHS-e2EFFy"
      },
      "outputs": [],
      "source": [
        "# если при выполнении кода в этой ячейке ничего не произошло, Вы всё сделали верно!\n",
        "assert result == 50, f\"Expected 50, got {result}\""
      ]
    },
    {
      "cell_type": "markdown",
      "metadata": {
        "id": "vQfCDpYKEFFy"
      },
      "source": [
        "# 2. Проблемы с float-числами\n",
        "Покажите, что `0.1 + 0.2` не равно `0.3`, заполнив `____`, в блоке кода ниже"
      ]
    },
    {
      "cell_type": "code",
      "execution_count": 8,
      "metadata": {
        "colab": {
          "base_uri": "https://localhost:8080/"
        },
        "id": "A8zei65BEFFy",
        "outputId": "90e5a39f-cb42-4ef3-b0c0-16c2d50e9d93"
      },
      "outputs": [
        {
          "output_type": "stream",
          "name": "stdout",
          "text": [
            "False\n",
            "0.30000000000000004\n"
          ]
        }
      ],
      "source": [
        "# Ваше решение:\n",
        "is_that_true = (0.1 + 0.2 == 0.3)\n",
        "print(is_that_true)\n",
        "print(0.1 + 0.2)"
      ]
    },
    {
      "cell_type": "code",
      "execution_count": 10,
      "metadata": {
        "colab": {
          "base_uri": "https://localhost:8080/"
        },
        "id": "uM_IRxD3EFFz",
        "outputId": "b238b039-dee4-4c6d-c9e7-30c7655e1c28"
      },
      "outputs": [
        {
          "output_type": "stream",
          "name": "stdout",
          "text": [
            "True\n"
          ]
        }
      ],
      "source": [
        "# проверим\n",
        "from decimal import Decimal\n",
        "\n",
        "is_that_true = (Decimal('0.1')+ Decimal('0.2') == Decimal ('0.3'))\n",
        "print(is_that_true)\n",
        "assert is_that_true == True"
      ]
    },
    {
      "cell_type": "markdown",
      "metadata": {
        "id": "nYgY8yXtEFFz"
      },
      "source": [
        "Если `is_that_true` - это `False`, получается, что в Python `0.1 + 0.2` != `0.3`\n",
        "\n",
        "Подумайте и погуглите, как сделать так (или какой тип данных использовать для 0.1, 0.2 и 0.3), чтобы выражение всё-таки стало истинным (`True`)"
      ]
    }
  ],
  "metadata": {
    "celltoolbar": "Edit Metadata",
    "kernelspec": {
      "display_name": "Python 3.10.8 64-bit (microsoft store)",
      "language": "python",
      "name": "python3"
    },
    "language_info": {
      "codemirror_mode": {
        "name": "ipython",
        "version": 3
      },
      "file_extension": ".py",
      "mimetype": "text/x-python",
      "name": "python",
      "nbconvert_exporter": "python",
      "pygments_lexer": "ipython3",
      "version": "3.10.8"
    },
    "vscode": {
      "interpreter": {
        "hash": "7b1f2b33e866b0bf2409397e5f58ba9cdf170d3b7f64c8f359c79998e2f88ad4"
      }
    },
    "colab": {
      "provenance": [],
      "include_colab_link": true
    }
  },
  "nbformat": 4,
  "nbformat_minor": 0
}