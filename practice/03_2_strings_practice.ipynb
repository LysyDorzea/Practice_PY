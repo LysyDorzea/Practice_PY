{
  "cells": [
    {
      "cell_type": "markdown",
      "metadata": {
        "id": "-pB-5VYcO66A"
      },
      "source": [
        "# 1. Заполните пропущенные интервалы\n",
        "Заполните `____`, чтобы получились верные значения переменных `lower_cased`, `stripped` и `stripped_lower_case`.\n",
        "\n",
        "По блоку с функциями `assert` догадайтесь, что нужно сделать с каждой переменной\n",
        "\n",
        "Не стесняйтесь погуглить, как работает метод `strip()`, и с помощью какого метода можно сделать все буквы в строке буквами нижнего регистра (не заглавными)."
      ]
    },
    {
      "cell_type": "code",
      "execution_count": 19,
      "metadata": {
        "id": "zOem0ivtO66B"
      },
      "outputs": [],
      "source": [
        "original = ' Python strings are COOL! '\n",
        "lower_cased = original.lower()\n",
        "stripped = original.strip()\n",
        "\n",
        "# с помощью двух символов точка вы можете последовательно применить к исходной строке несколько методов.\n",
        "# например, сначала метод strip(), а затем - какой-то ещё ....\n",
        "stripped_lower_cased = original.lower().strip()"
      ]
    },
    {
      "cell_type": "markdown",
      "metadata": {
        "id": "J5O2Mrn5O66C"
      },
      "source": [
        "Напомню, что функция `assert` вызовет [`AssertionError`](https://docs.python.org/3/library/exceptions.html#AssertionError) если выражение справа от неё не является `True` (т.е. является `False`)"
      ]
    },
    {
      "cell_type": "code",
      "execution_count": 20,
      "metadata": {
        "editable": false,
        "id": "87kbheC2O66C"
      },
      "outputs": [],
      "source": [
        "assert lower_cased == ' python strings are cool! '\n",
        "assert stripped == 'Python strings are COOL!'\n",
        "assert stripped_lower_cased == 'python strings are cool!'"
      ]
    },
    {
      "cell_type": "markdown",
      "metadata": {
        "id": "PSyO92TlO66C"
      },
      "source": [
        "# 2. Улучшите некрасивую строку\n",
        "Используйте на строке `ugly` метод `strip()`, чтобы убрать лишние символы в начале и в конце, а затем метод `title()`, чтобы каждое слово этой строки начиналось с заглавной буквы.\n",
        "\n",
        "Проверьте, что получившаяся строка совпадает со строкой из блока с функцией `assert` ниже"
      ]
    },
    {
      "cell_type": "code",
      "execution_count": 3,
      "metadata": {
        "editable": false,
        "id": "u-kRgoRZO66C"
      },
      "outputs": [],
      "source": [
        "ugly = ' tiTle of MY new Book\\n\\n'"
      ]
    },
    {
      "cell_type": "code",
      "execution_count": 4,
      "metadata": {
        "id": "B1nu8bVWO66C"
      },
      "outputs": [],
      "source": [
        "# Ваше решение:\n",
        "pretty = ugly.strip().title()"
      ]
    },
    {
      "cell_type": "markdown",
      "metadata": {
        "id": "ogdUsWTEO66D"
      },
      "source": [
        "Проверим, что результат правильный.\n",
        "\n",
        "Функция `assert` вызовет [`AssertionError`](https://docs.python.org/3/library/exceptions.html#AssertionError) если выражение справа от неё не True."
      ]
    },
    {
      "cell_type": "code",
      "execution_count": 8,
      "metadata": {
        "editable": false,
        "id": "0RCdTmALO66D",
        "colab": {
          "base_uri": "https://localhost:8080/"
        },
        "outputId": "18941071-31b6-4055-fabe-c5a5e611f2af"
      },
      "outputs": [
        {
          "output_type": "stream",
          "name": "stdout",
          "text": [
            "pretty: Title Of My New Book\n"
          ]
        }
      ],
      "source": [
        "print('pretty: {}'.format(pretty))\n",
        "assert pretty == 'Title Of My New Book'"
      ]
    },
    {
      "cell_type": "markdown",
      "metadata": {
        "id": "aPvlTMs_O66D"
      },
      "source": [
        "# 3. Составьте строку из других строк\n",
        "Создайте `sentence`, используя `verb`, `language` и `punctuation` и любые другие строки, которые вам могут понадобиться."
      ]
    },
    {
      "cell_type": "code",
      "execution_count": 13,
      "metadata": {
        "editable": false,
        "id": "XduKOt27O66D"
      },
      "outputs": [],
      "source": [
        "verb = 'is'\n",
        "language = 'Python'\n",
        "punctuation = '!'"
      ]
    },
    {
      "cell_type": "code",
      "execution_count": 17,
      "metadata": {
        "id": "JCt8mIfWO66D"
      },
      "outputs": [],
      "source": [
        "# Ваше решение:\n",
        "sentence = f'Learning {language} {verb} fun{punctuation }'"
      ]
    },
    {
      "cell_type": "code",
      "execution_count": 18,
      "metadata": {
        "editable": false,
        "id": "cZOUuIZhO66D",
        "colab": {
          "base_uri": "https://localhost:8080/"
        },
        "outputId": "0f91db4f-0850-4bca-ee80-afe517f254bb"
      },
      "outputs": [
        {
          "output_type": "stream",
          "name": "stdout",
          "text": [
            "sentence: Learning Python is fun!\n"
          ]
        }
      ],
      "source": [
        "print('sentence: {}'.format(sentence))\n",
        "assert sentence == 'Learning Python is fun!'"
      ]
    },
    {
      "cell_type": "markdown",
      "source": [],
      "metadata": {
        "id": "IIN9xJxrUxD9"
      }
    }
  ],
  "metadata": {
    "kernelspec": {
      "display_name": "Python 3.10.8 64-bit (microsoft store)",
      "language": "python",
      "name": "python3"
    },
    "language_info": {
      "codemirror_mode": {
        "name": "ipython",
        "version": 3
      },
      "file_extension": ".py",
      "mimetype": "text/x-python",
      "name": "python",
      "nbconvert_exporter": "python",
      "pygments_lexer": "ipython3",
      "version": "3.10.8"
    },
    "vscode": {
      "interpreter": {
        "hash": "7b1f2b33e866b0bf2409397e5f58ba9cdf170d3b7f64c8f359c79998e2f88ad4"
      }
    },
    "colab": {
      "provenance": []
    }
  },
  "nbformat": 4,
  "nbformat_minor": 0
}